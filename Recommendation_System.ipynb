{
  "nbformat": 4,
  "nbformat_minor": 0,
  "metadata": {
    "colab": {
      "provenance": [],
      "authorship_tag": "ABX9TyPhvw1nhSN9WkvbaHWXrpJP",
      "include_colab_link": true
    },
    "kernelspec": {
      "name": "python3",
      "display_name": "Python 3"
    },
    "language_info": {
      "name": "python"
    }
  },
  "cells": [
    {
      "cell_type": "markdown",
      "metadata": {
        "id": "view-in-github",
        "colab_type": "text"
      },
      "source": [
        "<a href=\"https://colab.research.google.com/github/ruchitha11n/data-science-ExcelR/blob/main/Recommendation_System.ipynb\" target=\"_parent\"><img src=\"https://colab.research.google.com/assets/colab-badge.svg\" alt=\"Open In Colab\"/></a>"
      ]
    },
    {
      "cell_type": "markdown",
      "source": [
        "\n",
        "NAME: **NADIPELLI RUCHITHA**\n",
        "\n",
        "COURSE: **DATA SCIENCE (3PM TO 5PM)**\n",
        "\n",
        "INCHARGE: **PANAM SRAVANI**"
      ],
      "metadata": {
        "id": "AKbt8b_IwvgP"
      }
    },
    {
      "cell_type": "markdown",
      "source": [
        "ASS_11:RECOMMENDATION SYSTEM"
      ],
      "metadata": {
        "id": "86Jl-2htCDa-"
      }
    },
    {
      "cell_type": "code",
      "execution_count": null,
      "metadata": {
        "colab": {
          "base_uri": "https://localhost:8080/"
        },
        "id": "sAy46w_NwrVs",
        "outputId": "c4eb2fd4-0158-4f24-d081-ce3d258bfd2f"
      },
      "outputs": [
        {
          "output_type": "stream",
          "name": "stdout",
          "text": [
            "<class 'pandas.core.frame.DataFrame'>\n",
            "RangeIndex: 12294 entries, 0 to 12293\n",
            "Data columns (total 7 columns):\n",
            " #   Column    Non-Null Count  Dtype  \n",
            "---  ------    --------------  -----  \n",
            " 0   anime_id  12294 non-null  int64  \n",
            " 1   name      12294 non-null  object \n",
            " 2   genre     12232 non-null  object \n",
            " 3   type      12269 non-null  object \n",
            " 4   episodes  12294 non-null  object \n",
            " 5   rating    12064 non-null  float64\n",
            " 6   members   12294 non-null  int64  \n",
            "dtypes: float64(1), int64(2), object(4)\n",
            "memory usage: 672.5+ KB\n",
            "None\n",
            "   anime_id                              name  \\\n",
            "0     32281                    Kimi no Na wa.   \n",
            "1      5114  Fullmetal Alchemist: Brotherhood   \n",
            "2     28977                          Gintama°   \n",
            "3      9253                       Steins;Gate   \n",
            "4      9969                     Gintama&#039;   \n",
            "\n",
            "                                               genre   type episodes  rating  \\\n",
            "0               Drama, Romance, School, Supernatural  Movie        1    9.37   \n",
            "1  Action, Adventure, Drama, Fantasy, Magic, Mili...     TV       64    9.26   \n",
            "2  Action, Comedy, Historical, Parody, Samurai, S...     TV       51    9.25   \n",
            "3                                   Sci-Fi, Thriller     TV       24    9.17   \n",
            "4  Action, Comedy, Historical, Parody, Samurai, S...     TV       51    9.16   \n",
            "\n",
            "   members  \n",
            "0   200630  \n",
            "1   793665  \n",
            "2   114262  \n",
            "3   673572  \n",
            "4   151266  \n"
          ]
        }
      ],
      "source": [
        "import pandas as pd\n",
        "\n",
        "# Load the dataset\n",
        "anime_df = pd.read_csv(\"/content/anime.csv\")  # Replace with the correct file path\n",
        "\n",
        "# Display basic info\n",
        "print(anime_df.info())\n",
        "\n",
        "# View sample data\n",
        "print(anime_df.head())"
      ]
    },
    {
      "cell_type": "code",
      "source": [
        "# Drop rows with missing titles or genres\n",
        "anime_df = anime_df.dropna(subset=['name', 'genre'])\n",
        "\n",
        "# Fill missing episodes with a default value (e.g., 0)\n",
        "anime_df['episodes'] = anime_df['episodes'].replace('Unknown', 0).astype(int)\n",
        "\n",
        "# Fill missing ratings with the mean\n",
        "anime_df['rating'] = anime_df['rating'].fillna(anime_df['rating'].mean())\n"
      ],
      "metadata": {
        "id": "ajqGjReAw6sb",
        "colab": {
          "base_uri": "https://localhost:8080/"
        },
        "outputId": "b7864914-bb43-4f60-9cbe-252f0edfebef"
      },
      "execution_count": null,
      "outputs": [
        {
          "output_type": "stream",
          "name": "stderr",
          "text": [
            "<ipython-input-2-3deacfdcc7ba>:5: SettingWithCopyWarning: \n",
            "A value is trying to be set on a copy of a slice from a DataFrame.\n",
            "Try using .loc[row_indexer,col_indexer] = value instead\n",
            "\n",
            "See the caveats in the documentation: https://pandas.pydata.org/pandas-docs/stable/user_guide/indexing.html#returning-a-view-versus-a-copy\n",
            "  anime_df['episodes'] = anime_df['episodes'].replace('Unknown', 0).astype(int)\n",
            "<ipython-input-2-3deacfdcc7ba>:8: SettingWithCopyWarning: \n",
            "A value is trying to be set on a copy of a slice from a DataFrame.\n",
            "Try using .loc[row_indexer,col_indexer] = value instead\n",
            "\n",
            "See the caveats in the documentation: https://pandas.pydata.org/pandas-docs/stable/user_guide/indexing.html#returning-a-view-versus-a-copy\n",
            "  anime_df['rating'] = anime_df['rating'].fillna(anime_df['rating'].mean())\n"
          ]
        }
      ]
    },
    {
      "cell_type": "code",
      "source": [
        "# Split genre into multiple binary features\n",
        "anime_genres = anime_df['genre'].str.get_dummies(sep=', ')\n",
        "\n",
        "# Combine with main dataframe\n",
        "anime_features = pd.concat([anime_df[['name', 'type', 'episodes', 'rating', 'members']], anime_genres], axis=1)\n",
        "\n",
        "# Optional: normalize numerical features\n",
        "from sklearn.preprocessing import MinMaxScaler\n",
        "\n",
        "scaler = MinMaxScaler()\n",
        "anime_features[['episodes', 'rating', 'members']] = scaler.fit_transform(anime_features[['episodes', 'rating', 'members']])\n"
      ],
      "metadata": {
        "id": "_8qO6iKQw6pf"
      },
      "execution_count": null,
      "outputs": []
    },
    {
      "cell_type": "code",
      "source": [
        "from sklearn.metrics.pairwise import cosine_similarity # Import the cosine_similarity function"
      ],
      "metadata": {
        "id": "H0CWRm5Xw6kK"
      },
      "execution_count": null,
      "outputs": []
    },
    {
      "cell_type": "code",
      "source": [
        "# Assuming 'anime_features' is your DataFrame\n",
        "\n",
        "# Select only the numerical features for cosine similarity calculation\n",
        "numerical_features = anime_features.select_dtypes(include=['number'])\n",
        "\n",
        "# Now calculate cosine similarity\n",
        "cosine_sim = cosine_similarity(numerical_features)\n",
        "\n",
        "# Index mapping for anime names (adjust if necessary)\n",
        "anime_df = anime_df.reset_index(drop=True)\n",
        "indices = pd.Series(anime_df.index, index=anime_df['name']).drop_duplicates()"
      ],
      "metadata": {
        "id": "O0IvpIMQw6hJ"
      },
      "execution_count": null,
      "outputs": []
    },
    {
      "cell_type": "code",
      "source": [
        "# Step 4: Recommendation Function\n",
        "def recommend_anime(title, top_n=10, similarity_threshold=0.5):\n",
        "    if title not in indices:\n",
        "        return f\"Anime '{title}' not found in the dataset.\"\n",
        "\n",
        "    idx = indices[title]\n",
        "    sim_scores = list(enumerate(cosine_sim[idx]))\n",
        "    sim_scores = sorted(sim_scores, key=lambda x: x[1], reverse=True)\n",
        "\n",
        "    # Filter by threshold and remove itself\n",
        "    sim_scores = [score for score in sim_scores if score[0] != idx and score[1] >= similarity_threshold]\n",
        "    top_similar = sim_scores[:top_n]\n",
        "\n",
        "    anime_indices = [i[0] for i in top_similar]\n",
        "    return anime_df[['name', 'genre', 'rating']].iloc[anime_indices]\n",
        "\n",
        "# Example usage\n",
        "title_input = \"Naruto\"  # Change this to test other anime\n",
        "recommendations = recommend_anime(title_input)\n",
        "print(f\"\\nTop recommendations similar to '{title_input}':\\n\")\n",
        "print(recommendations)"
      ],
      "metadata": {
        "id": "sSL6H8l7w6ea",
        "colab": {
          "base_uri": "https://localhost:8080/"
        },
        "outputId": "295089ca-f7a5-4517-9570-bb9a21ad8592"
      },
      "execution_count": null,
      "outputs": [
        {
          "output_type": "stream",
          "name": "stdout",
          "text": [
            "\n",
            "Top recommendations similar to 'Naruto':\n",
            "\n",
            "                                                   name  \\\n",
            "615                                  Naruto: Shippuuden   \n",
            "1472        Naruto: Shippuuden Movie 4 - The Lost Tower   \n",
            "1573  Naruto: Shippuuden Movie 3 - Hi no Ishi wo Tsu...   \n",
            "486                            Boruto: Naruto the Movie   \n",
            "1343                                        Naruto x UT   \n",
            "2996  Naruto Soyokazeden Movie: Naruto to Mashin to ...   \n",
            "1103  Boruto: Naruto the Movie - Naruto ga Hokage ni...   \n",
            "2458               Naruto Shippuuden: Sunny Side Battle   \n",
            "175                              Katekyo Hitman Reborn!   \n",
            "7617                            Kyutai Panic Adventure!   \n",
            "\n",
            "                                                  genre  rating  \n",
            "615   Action, Comedy, Martial Arts, Shounen, Super P...    7.94  \n",
            "1472  Action, Comedy, Martial Arts, Shounen, Super P...    7.53  \n",
            "1573  Action, Comedy, Martial Arts, Shounen, Super P...    7.50  \n",
            "486   Action, Comedy, Martial Arts, Shounen, Super P...    8.03  \n",
            "1343  Action, Comedy, Martial Arts, Shounen, Super P...    7.58  \n",
            "2996  Action, Comedy, Martial Arts, Shounen, Super P...    7.11  \n",
            "1103  Action, Comedy, Martial Arts, Shounen, Super P...    7.68  \n",
            "2458  Action, Comedy, Martial Arts, Shounen, Super P...    7.26  \n",
            "175                Action, Comedy, Shounen, Super Power    8.37  \n",
            "7617         Action, Martial Arts, Shounen, Super Power    5.21  \n"
          ]
        }
      ]
    },
    {
      "cell_type": "markdown",
      "source": [
        "**1.**User-Based Collaborative Filtering:\n",
        "\n",
        "- Recommends items to a user based on similarities with other users.\n",
        "\n",
        "Item-Based Collaborative Filtering:\n",
        "\n",
        "- Recommends items similar to the ones a user has liked or interacted with.\n",
        "\n",
        "Both methods aim to provide personalized recommendations, but they approach it from different angles: user similarity vs. item similarity.\n",
        "\n",
        "**2.**Collaborative Filtering:\n",
        "- Recommends items to users based on the behavior or preferences of similar users.\n",
        "How it works:\n",
        "1. Collects user behavior data (e.g., ratings, clicks).\n",
        "2. Identifies patterns and similarities between users or items.\n",
        "3. Recommends items to a user based on the preferences of similar users or items.\n",
        "It's a popular technique used in recommendation systems to suggest items that users might like."
      ],
      "metadata": {
        "id": "bd84BhjVCKPs"
      }
    },
    {
      "cell_type": "code",
      "source": [],
      "metadata": {
        "id": "hYsgx9x7w6b2"
      },
      "execution_count": null,
      "outputs": []
    },
    {
      "cell_type": "code",
      "source": [],
      "metadata": {
        "id": "zFbFGh5Iw6Y2"
      },
      "execution_count": null,
      "outputs": []
    },
    {
      "cell_type": "code",
      "source": [],
      "metadata": {
        "id": "ulyNXWaOw6V_"
      },
      "execution_count": null,
      "outputs": []
    },
    {
      "cell_type": "code",
      "source": [],
      "metadata": {
        "id": "mYYjY8Izw6Sk"
      },
      "execution_count": null,
      "outputs": []
    },
    {
      "cell_type": "code",
      "source": [],
      "metadata": {
        "id": "0dAm7MZ_w6QA"
      },
      "execution_count": null,
      "outputs": []
    },
    {
      "cell_type": "code",
      "source": [],
      "metadata": {
        "id": "-nWAJk5Ew6NO"
      },
      "execution_count": null,
      "outputs": []
    },
    {
      "cell_type": "code",
      "source": [],
      "metadata": {
        "id": "1rKQAS_4w6Kh"
      },
      "execution_count": null,
      "outputs": []
    },
    {
      "cell_type": "code",
      "source": [],
      "metadata": {
        "id": "8wD23TIsw6H5"
      },
      "execution_count": null,
      "outputs": []
    },
    {
      "cell_type": "code",
      "source": [],
      "metadata": {
        "id": "QR2vq6hIw6FD"
      },
      "execution_count": null,
      "outputs": []
    },
    {
      "cell_type": "code",
      "source": [],
      "metadata": {
        "id": "gcLIIE0Hw6CS"
      },
      "execution_count": null,
      "outputs": []
    },
    {
      "cell_type": "code",
      "source": [],
      "metadata": {
        "id": "0c-sd1SAw5_q"
      },
      "execution_count": null,
      "outputs": []
    },
    {
      "cell_type": "code",
      "source": [],
      "metadata": {
        "id": "JbPx2aidw58-"
      },
      "execution_count": null,
      "outputs": []
    },
    {
      "cell_type": "code",
      "source": [],
      "metadata": {
        "id": "L6G7sGaVw56c"
      },
      "execution_count": null,
      "outputs": []
    },
    {
      "cell_type": "code",
      "source": [],
      "metadata": {
        "id": "SdBoThXHw53x"
      },
      "execution_count": null,
      "outputs": []
    },
    {
      "cell_type": "code",
      "source": [],
      "metadata": {
        "id": "TiXvbhqRw51M"
      },
      "execution_count": null,
      "outputs": []
    },
    {
      "cell_type": "code",
      "source": [],
      "metadata": {
        "id": "0BkMslE0w5yS"
      },
      "execution_count": null,
      "outputs": []
    },
    {
      "cell_type": "code",
      "source": [],
      "metadata": {
        "id": "N9i2hTbMw5vi"
      },
      "execution_count": null,
      "outputs": []
    },
    {
      "cell_type": "code",
      "source": [],
      "metadata": {
        "id": "Y4A78mkyw5sx"
      },
      "execution_count": null,
      "outputs": []
    },
    {
      "cell_type": "code",
      "source": [],
      "metadata": {
        "id": "KRr2LW3xw5qQ"
      },
      "execution_count": null,
      "outputs": []
    },
    {
      "cell_type": "code",
      "source": [],
      "metadata": {
        "id": "HY4Q9N8Iw5nf"
      },
      "execution_count": null,
      "outputs": []
    },
    {
      "cell_type": "code",
      "source": [],
      "metadata": {
        "id": "4PlVfzwVw5k3"
      },
      "execution_count": null,
      "outputs": []
    }
  ]
}
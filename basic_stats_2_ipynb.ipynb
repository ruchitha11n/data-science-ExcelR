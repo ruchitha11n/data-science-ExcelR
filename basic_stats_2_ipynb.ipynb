{
  "nbformat": 4,
  "nbformat_minor": 0,
  "metadata": {
    "colab": {
      "provenance": [],
      "authorship_tag": "ABX9TyNN5YSpsH9lq1ApOIyAi+nN",
      "include_colab_link": true
    },
    "kernelspec": {
      "name": "python3",
      "display_name": "Python 3"
    },
    "language_info": {
      "name": "python"
    }
  },
  "cells": [
    {
      "cell_type": "markdown",
      "metadata": {
        "id": "view-in-github",
        "colab_type": "text"
      },
      "source": [
        "<a href=\"https://colab.research.google.com/github/ruchitha11n/data-science-ExcelR/blob/main/basic_stats_2_ipynb.ipynb\" target=\"_parent\"><img src=\"https://colab.research.google.com/assets/colab-badge.svg\" alt=\"Open In Colab\"/></a>"
      ]
    },
    {
      "cell_type": "markdown",
      "source": [
        "NAME: **NADIPELLI RUCHITHA**\n",
        "\n",
        "COURSE: **DATA SCIENCE (3PM TO 5PM)**\n",
        "\n",
        "INCHARGE: **PANAM SRAVANI**"
      ],
      "metadata": {
        "id": "vIBi_5txmjGp"
      }
    },
    {
      "cell_type": "markdown",
      "source": [
        "**2.Estimation And Confidence Intervals**"
      ],
      "metadata": {
        "id": "g4z9-VoNDPA3"
      }
    },
    {
      "cell_type": "code",
      "execution_count": null,
      "metadata": {
        "id": "-_vvNuw1BJd4"
      },
      "outputs": [],
      "source": [
        "import numpy as np\n",
        "import scipy.stats as stats"
      ]
    },
    {
      "cell_type": "code",
      "source": [
        "# Durability data (in millions of characters)\n",
        "data = np.array([1.13, 1.55, 1.43, 0.92, 1.25, 1.36, 1.32, 0.85, 1.07, 1.48, 1.20, 1.33, 1.18, 1.22, 1.29])\n"
      ],
      "metadata": {
        "id": "wHbrxIDwDXJo"
      },
      "execution_count": null,
      "outputs": []
    },
    {
      "cell_type": "code",
      "source": [
        "n = len(data)\n",
        "sample_mean = np.mean(data)\n",
        "sample_std = np.std(data, ddof=1)"
      ],
      "metadata": {
        "id": "wfGVWu5zDXGT"
      },
      "execution_count": null,
      "outputs": []
    },
    {
      "cell_type": "code",
      "source": [
        "# Confidence level\n",
        "confidence_level = 0.99\n",
        "alpha = 1 - confidence_level"
      ],
      "metadata": {
        "id": "-_-0UpgvDXD9"
      },
      "execution_count": null,
      "outputs": []
    },
    {
      "cell_type": "markdown",
      "source": [
        "**(a) Confidence Interval using Sample Standard Deviation (t-distribution)**"
      ],
      "metadata": {
        "id": "FYzsafeQDjfw"
      }
    },
    {
      "cell_type": "code",
      "source": [
        "df = n - 1  # Degrees of freedom\n",
        "t_critical = stats.t.ppf(1 - alpha/2, df)"
      ],
      "metadata": {
        "id": "TBUylTzFDXBm"
      },
      "execution_count": null,
      "outputs": []
    },
    {
      "cell_type": "code",
      "source": [
        "margin_of_error_t = t_critical * (sample_std / np.sqrt(n))"
      ],
      "metadata": {
        "id": "Xg6xwuxYDW_U"
      },
      "execution_count": null,
      "outputs": []
    },
    {
      "cell_type": "code",
      "source": [
        "ci_t = (sample_mean - margin_of_error_t, sample_mean + margin_of_error_t)\n",
        "\n",
        "print(f\"99% Confidence Interval using Sample Standard Deviation (t-distribution): {ci_t}\")"
      ],
      "metadata": {
        "colab": {
          "base_uri": "https://localhost:8080/"
        },
        "id": "z7_ngeheDW8-",
        "outputId": "550e87ed-ad24-44ff-e5bb-8aa739fbafbe"
      },
      "execution_count": null,
      "outputs": [
        {
          "output_type": "stream",
          "name": "stdout",
          "text": [
            "99% Confidence Interval using Sample Standard Deviation (t-distribution): (np.float64(1.0901973384384906), np.float64(1.3871359948948425))\n"
          ]
        }
      ]
    },
    {
      "cell_type": "markdown",
      "source": [
        "**(b) Confidence Interval using Known Population Standard Deviation (z-distribution)**"
      ],
      "metadata": {
        "id": "TF9i3OAGDvgf"
      }
    },
    {
      "cell_type": "code",
      "source": [
        "pop_std = 0.2  # Given population standard deviation\n",
        "z_critical = stats.norm.ppf(1 - alpha/2)"
      ],
      "metadata": {
        "id": "Vq-cW7wODW6G"
      },
      "execution_count": null,
      "outputs": []
    },
    {
      "cell_type": "code",
      "source": [
        "margin_of_error_z = z_critical * (pop_std / np.sqrt(n))"
      ],
      "metadata": {
        "id": "fAKGGgjDDW3_"
      },
      "execution_count": null,
      "outputs": []
    },
    {
      "cell_type": "code",
      "source": [
        "ci_z = (sample_mean - margin_of_error_z, sample_mean + margin_of_error_z)\n",
        "\n",
        "print(f\"99% Confidence Interval using Known Population Standard Deviation (z-distribution): {ci_z}\")"
      ],
      "metadata": {
        "colab": {
          "base_uri": "https://localhost:8080/"
        },
        "id": "QYM-pbhuDW1Z",
        "outputId": "361661ad-7a35-4b3f-bb33-44ea1f52cdc8"
      },
      "execution_count": null,
      "outputs": [
        {
          "output_type": "stream",
          "name": "stdout",
          "text": [
            "99% Confidence Interval using Known Population Standard Deviation (z-distribution): (np.float64(1.1056514133957607), np.float64(1.3716819199375725))\n"
          ]
        }
      ]
    },
    {
      "cell_type": "code",
      "source": [],
      "metadata": {
        "id": "JhP8wKWjDWyn"
      },
      "execution_count": null,
      "outputs": []
    },
    {
      "cell_type": "code",
      "source": [],
      "metadata": {
        "id": "fx9eAJK8DWwN"
      },
      "execution_count": null,
      "outputs": []
    },
    {
      "cell_type": "code",
      "source": [],
      "metadata": {
        "id": "6v0tzAAiDWtU"
      },
      "execution_count": null,
      "outputs": []
    },
    {
      "cell_type": "code",
      "source": [],
      "metadata": {
        "id": "bQZ1A7nQDWqT"
      },
      "execution_count": null,
      "outputs": []
    },
    {
      "cell_type": "code",
      "source": [],
      "metadata": {
        "id": "Pog62fbtDWn1"
      },
      "execution_count": null,
      "outputs": []
    },
    {
      "cell_type": "code",
      "source": [],
      "metadata": {
        "id": "nBsT4UuXDWlM"
      },
      "execution_count": null,
      "outputs": []
    },
    {
      "cell_type": "code",
      "source": [],
      "metadata": {
        "id": "_2WByBjDDWit"
      },
      "execution_count": null,
      "outputs": []
    },
    {
      "cell_type": "code",
      "source": [],
      "metadata": {
        "id": "06I1P2RfDWf7"
      },
      "execution_count": null,
      "outputs": []
    },
    {
      "cell_type": "code",
      "source": [],
      "metadata": {
        "id": "yyHUA3SYDWda"
      },
      "execution_count": null,
      "outputs": []
    },
    {
      "cell_type": "code",
      "source": [],
      "metadata": {
        "id": "xSoA8mA5DWas"
      },
      "execution_count": null,
      "outputs": []
    },
    {
      "cell_type": "code",
      "source": [],
      "metadata": {
        "id": "GrgVYFQdDWYW"
      },
      "execution_count": null,
      "outputs": []
    },
    {
      "cell_type": "code",
      "source": [],
      "metadata": {
        "id": "4DG72WvlDWVs"
      },
      "execution_count": null,
      "outputs": []
    },
    {
      "cell_type": "code",
      "source": [],
      "metadata": {
        "id": "M1AjAuCyDWTQ"
      },
      "execution_count": null,
      "outputs": []
    },
    {
      "cell_type": "code",
      "source": [],
      "metadata": {
        "id": "2tDt8jQEDWQ5"
      },
      "execution_count": null,
      "outputs": []
    },
    {
      "cell_type": "code",
      "source": [],
      "metadata": {
        "id": "zqdhy0RqDWOo"
      },
      "execution_count": null,
      "outputs": []
    },
    {
      "cell_type": "code",
      "source": [],
      "metadata": {
        "id": "7lQugtilDWMS"
      },
      "execution_count": null,
      "outputs": []
    },
    {
      "cell_type": "code",
      "source": [],
      "metadata": {
        "id": "CYPFPpebDWJn"
      },
      "execution_count": null,
      "outputs": []
    }
  ]
}
{
  "nbformat": 4,
  "nbformat_minor": 0,
  "metadata": {
    "colab": {
      "provenance": [],
      "authorship_tag": "ABX9TyMYWAjF7ISdkAMAeLbzlLpj",
      "include_colab_link": true
    },
    "kernelspec": {
      "name": "python3",
      "display_name": "Python 3"
    },
    "language_info": {
      "name": "python"
    }
  },
  "cells": [
    {
      "cell_type": "markdown",
      "metadata": {
        "id": "view-in-github",
        "colab_type": "text"
      },
      "source": [
        "<a href=\"https://colab.research.google.com/github/ruchitha11n/data-science-ExcelR/blob/main/Neural_Networks.ipynb\" target=\"_parent\"><img src=\"https://colab.research.google.com/assets/colab-badge.svg\" alt=\"Open In Colab\"/></a>"
      ]
    },
    {
      "cell_type": "markdown",
      "source": [
        "\n",
        "NAME: **NADIPELLI RUCHITHA**\n",
        "\n",
        "COURSE: **DATA SCIENCE (3PM TO 5PM)**\n",
        "\n",
        "INCHARGE: **PANAM SRAVANI**"
      ],
      "metadata": {
        "id": "AkTH2CyOLXSk"
      }
    },
    {
      "cell_type": "markdown",
      "source": [
        "ASS_18 : NEURAL NETWORKS"
      ],
      "metadata": {
        "id": "FdtQklF9LbUk"
      }
    },
    {
      "cell_type": "code",
      "execution_count": null,
      "metadata": {
        "colab": {
          "base_uri": "https://localhost:8080/"
        },
        "id": "1FcumrRbLWfu",
        "outputId": "76de7ede-70cf-49bc-a4a6-5905c979423a"
      },
      "outputs": [
        {
          "output_type": "stream",
          "name": "stdout",
          "text": [
            "Collecting scikeras\n",
            "  Downloading scikeras-0.13.0-py3-none-any.whl.metadata (3.1 kB)\n",
            "Requirement already satisfied: tensorflow in /usr/local/lib/python3.11/dist-packages (2.18.0)\n",
            "Requirement already satisfied: pandas in /usr/local/lib/python3.11/dist-packages (2.2.2)\n",
            "Requirement already satisfied: scikit-learn in /usr/local/lib/python3.11/dist-packages (1.6.1)\n",
            "Requirement already satisfied: matplotlib in /usr/local/lib/python3.11/dist-packages (3.10.0)\n",
            "Requirement already satisfied: keras>=3.2.0 in /usr/local/lib/python3.11/dist-packages (from scikeras) (3.8.0)\n",
            "Requirement already satisfied: absl-py>=1.0.0 in /usr/local/lib/python3.11/dist-packages (from tensorflow) (1.4.0)\n",
            "Requirement already satisfied: astunparse>=1.6.0 in /usr/local/lib/python3.11/dist-packages (from tensorflow) (1.6.3)\n",
            "Requirement already satisfied: flatbuffers>=24.3.25 in /usr/local/lib/python3.11/dist-packages (from tensorflow) (25.2.10)\n",
            "Requirement already satisfied: gast!=0.5.0,!=0.5.1,!=0.5.2,>=0.2.1 in /usr/local/lib/python3.11/dist-packages (from tensorflow) (0.6.0)\n",
            "Requirement already satisfied: google-pasta>=0.1.1 in /usr/local/lib/python3.11/dist-packages (from tensorflow) (0.2.0)\n",
            "Requirement already satisfied: libclang>=13.0.0 in /usr/local/lib/python3.11/dist-packages (from tensorflow) (18.1.1)\n",
            "Requirement already satisfied: opt-einsum>=2.3.2 in /usr/local/lib/python3.11/dist-packages (from tensorflow) (3.4.0)\n",
            "Requirement already satisfied: packaging in /usr/local/lib/python3.11/dist-packages (from tensorflow) (24.2)\n",
            "Requirement already satisfied: protobuf!=4.21.0,!=4.21.1,!=4.21.2,!=4.21.3,!=4.21.4,!=4.21.5,<6.0.0dev,>=3.20.3 in /usr/local/lib/python3.11/dist-packages (from tensorflow) (5.29.4)\n",
            "Requirement already satisfied: requests<3,>=2.21.0 in /usr/local/lib/python3.11/dist-packages (from tensorflow) (2.32.3)\n",
            "Requirement already satisfied: setuptools in /usr/local/lib/python3.11/dist-packages (from tensorflow) (75.2.0)\n",
            "Requirement already satisfied: six>=1.12.0 in /usr/local/lib/python3.11/dist-packages (from tensorflow) (1.17.0)\n",
            "Requirement already satisfied: termcolor>=1.1.0 in /usr/local/lib/python3.11/dist-packages (from tensorflow) (3.0.1)\n",
            "Requirement already satisfied: typing-extensions>=3.6.6 in /usr/local/lib/python3.11/dist-packages (from tensorflow) (4.13.2)\n",
            "Requirement already satisfied: wrapt>=1.11.0 in /usr/local/lib/python3.11/dist-packages (from tensorflow) (1.17.2)\n",
            "Requirement already satisfied: grpcio<2.0,>=1.24.3 in /usr/local/lib/python3.11/dist-packages (from tensorflow) (1.71.0)\n",
            "Requirement already satisfied: tensorboard<2.19,>=2.18 in /usr/local/lib/python3.11/dist-packages (from tensorflow) (2.18.0)\n",
            "Requirement already satisfied: numpy<2.1.0,>=1.26.0 in /usr/local/lib/python3.11/dist-packages (from tensorflow) (2.0.2)\n",
            "Requirement already satisfied: h5py>=3.11.0 in /usr/local/lib/python3.11/dist-packages (from tensorflow) (3.13.0)\n",
            "Requirement already satisfied: ml-dtypes<0.5.0,>=0.4.0 in /usr/local/lib/python3.11/dist-packages (from tensorflow) (0.4.1)\n",
            "Requirement already satisfied: tensorflow-io-gcs-filesystem>=0.23.1 in /usr/local/lib/python3.11/dist-packages (from tensorflow) (0.37.1)\n",
            "Requirement already satisfied: python-dateutil>=2.8.2 in /usr/local/lib/python3.11/dist-packages (from pandas) (2.8.2)\n",
            "Requirement already satisfied: pytz>=2020.1 in /usr/local/lib/python3.11/dist-packages (from pandas) (2025.2)\n",
            "Requirement already satisfied: tzdata>=2022.7 in /usr/local/lib/python3.11/dist-packages (from pandas) (2025.2)\n",
            "Requirement already satisfied: scipy>=1.6.0 in /usr/local/lib/python3.11/dist-packages (from scikit-learn) (1.14.1)\n",
            "Requirement already satisfied: joblib>=1.2.0 in /usr/local/lib/python3.11/dist-packages (from scikit-learn) (1.4.2)\n",
            "Requirement already satisfied: threadpoolctl>=3.1.0 in /usr/local/lib/python3.11/dist-packages (from scikit-learn) (3.6.0)\n",
            "Requirement already satisfied: contourpy>=1.0.1 in /usr/local/lib/python3.11/dist-packages (from matplotlib) (1.3.2)\n",
            "Requirement already satisfied: cycler>=0.10 in /usr/local/lib/python3.11/dist-packages (from matplotlib) (0.12.1)\n",
            "Requirement already satisfied: fonttools>=4.22.0 in /usr/local/lib/python3.11/dist-packages (from matplotlib) (4.57.0)\n",
            "Requirement already satisfied: kiwisolver>=1.3.1 in /usr/local/lib/python3.11/dist-packages (from matplotlib) (1.4.8)\n",
            "Requirement already satisfied: pillow>=8 in /usr/local/lib/python3.11/dist-packages (from matplotlib) (11.1.0)\n",
            "Requirement already satisfied: pyparsing>=2.3.1 in /usr/local/lib/python3.11/dist-packages (from matplotlib) (3.2.3)\n",
            "Requirement already satisfied: wheel<1.0,>=0.23.0 in /usr/local/lib/python3.11/dist-packages (from astunparse>=1.6.0->tensorflow) (0.45.1)\n",
            "Requirement already satisfied: rich in /usr/local/lib/python3.11/dist-packages (from keras>=3.2.0->scikeras) (13.9.4)\n",
            "Requirement already satisfied: namex in /usr/local/lib/python3.11/dist-packages (from keras>=3.2.0->scikeras) (0.0.8)\n",
            "Requirement already satisfied: optree in /usr/local/lib/python3.11/dist-packages (from keras>=3.2.0->scikeras) (0.15.0)\n",
            "Requirement already satisfied: charset-normalizer<4,>=2 in /usr/local/lib/python3.11/dist-packages (from requests<3,>=2.21.0->tensorflow) (3.4.1)\n",
            "Requirement already satisfied: idna<4,>=2.5 in /usr/local/lib/python3.11/dist-packages (from requests<3,>=2.21.0->tensorflow) (3.10)\n",
            "Requirement already satisfied: urllib3<3,>=1.21.1 in /usr/local/lib/python3.11/dist-packages (from requests<3,>=2.21.0->tensorflow) (2.3.0)\n",
            "Requirement already satisfied: certifi>=2017.4.17 in /usr/local/lib/python3.11/dist-packages (from requests<3,>=2.21.0->tensorflow) (2025.1.31)\n",
            "Requirement already satisfied: markdown>=2.6.8 in /usr/local/lib/python3.11/dist-packages (from tensorboard<2.19,>=2.18->tensorflow) (3.8)\n",
            "Requirement already satisfied: tensorboard-data-server<0.8.0,>=0.7.0 in /usr/local/lib/python3.11/dist-packages (from tensorboard<2.19,>=2.18->tensorflow) (0.7.2)\n",
            "Requirement already satisfied: werkzeug>=1.0.1 in /usr/local/lib/python3.11/dist-packages (from tensorboard<2.19,>=2.18->tensorflow) (3.1.3)\n",
            "Requirement already satisfied: MarkupSafe>=2.1.1 in /usr/local/lib/python3.11/dist-packages (from werkzeug>=1.0.1->tensorboard<2.19,>=2.18->tensorflow) (3.0.2)\n",
            "Requirement already satisfied: markdown-it-py>=2.2.0 in /usr/local/lib/python3.11/dist-packages (from rich->keras>=3.2.0->scikeras) (3.0.0)\n",
            "Requirement already satisfied: pygments<3.0.0,>=2.13.0 in /usr/local/lib/python3.11/dist-packages (from rich->keras>=3.2.0->scikeras) (2.18.0)\n",
            "Requirement already satisfied: mdurl~=0.1 in /usr/local/lib/python3.11/dist-packages (from markdown-it-py>=2.2.0->rich->keras>=3.2.0->scikeras) (0.1.2)\n",
            "Downloading scikeras-0.13.0-py3-none-any.whl (26 kB)\n",
            "Installing collected packages: scikeras\n",
            "Successfully installed scikeras-0.13.0\n"
          ]
        }
      ],
      "source": [
        "!pip install scikeras tensorflow pandas scikit-learn matplotlib"
      ]
    },
    {
      "cell_type": "code",
      "source": [
        "# STEP 1: Import required libraries\n",
        "import pandas as pd\n",
        "import numpy as np\n",
        "from sklearn.model_selection import train_test_split\n",
        "from sklearn.preprocessing import StandardScaler, LabelEncoder\n",
        "from sklearn.metrics import classification_report, confusion_matrix, accuracy_score\n",
        "import matplotlib.pyplot as plt\n",
        "from tensorflow.keras.models import Sequential\n",
        "from tensorflow.keras.layers import Dense\n",
        "from tensorflow.keras.utils import to_categorical"
      ],
      "metadata": {
        "id": "rpmxVVd3MHKm"
      },
      "execution_count": null,
      "outputs": []
    },
    {
      "cell_type": "code",
      "source": [
        "# STEP 2: Load the dataset\n",
        "df = pd.read_csv(\"/content/Alphabets_data.csv\")\n",
        "print(\"Dataset shape:\", df.shape)\n"
      ],
      "metadata": {
        "colab": {
          "base_uri": "https://localhost:8080/"
        },
        "id": "RnawnEFGMHHn",
        "outputId": "24e2f7ef-018d-4118-eb24-ea57b27c1c56"
      },
      "execution_count": null,
      "outputs": [
        {
          "output_type": "stream",
          "name": "stdout",
          "text": [
            "Dataset shape: (20000, 17)\n"
          ]
        }
      ]
    },
    {
      "cell_type": "code",
      "source": [
        "# STEP 3: Check for missing values\n",
        "print(\"Missing values:\\n\", df.isnull().sum())"
      ],
      "metadata": {
        "colab": {
          "base_uri": "https://localhost:8080/"
        },
        "id": "kHQgSAXYMHFT",
        "outputId": "fd825ca9-b8d6-4cbd-919d-8ca78e83ba3c"
      },
      "execution_count": null,
      "outputs": [
        {
          "output_type": "stream",
          "name": "stdout",
          "text": [
            "Missing values:\n",
            " letter    0\n",
            "xbox      0\n",
            "ybox      0\n",
            "width     0\n",
            "height    0\n",
            "onpix     0\n",
            "xbar      0\n",
            "ybar      0\n",
            "x2bar     0\n",
            "y2bar     0\n",
            "xybar     0\n",
            "x2ybar    0\n",
            "xy2bar    0\n",
            "xedge     0\n",
            "xedgey    0\n",
            "yedge     0\n",
            "yedgex    0\n",
            "dtype: int64\n"
          ]
        }
      ]
    },
    {
      "cell_type": "code",
      "source": [
        "# STEP 4: Split features and target\n",
        "X = df.iloc[:, 1:]\n",
        "y = df.iloc[:, 0]"
      ],
      "metadata": {
        "id": "OOqcNXH3MHCh"
      },
      "execution_count": null,
      "outputs": []
    },
    {
      "cell_type": "code",
      "source": [
        "# STEP 5: Encode the target labels\n",
        "le = LabelEncoder()\n",
        "y_encoded = le.fit_transform(y)\n",
        "y_categorical = to_categorical(y_encoded)"
      ],
      "metadata": {
        "id": "6Ea_-pV3MHAC"
      },
      "execution_count": null,
      "outputs": []
    },
    {
      "cell_type": "code",
      "source": [
        "# STEP 6: Normalize features\n",
        "scaler = StandardScaler()\n",
        "X_scaled = scaler.fit_transform(X)"
      ],
      "metadata": {
        "id": "G-tagUOpMG9e"
      },
      "execution_count": null,
      "outputs": []
    },
    {
      "cell_type": "code",
      "source": [
        "# STEP 7: Train-test split\n",
        "X_train, X_test, y_train, y_test = train_test_split(X_scaled, y_categorical, test_size=0.2, random_state=42)\n"
      ],
      "metadata": {
        "id": "dUvRWAXIMG6z"
      },
      "execution_count": null,
      "outputs": []
    },
    {
      "cell_type": "code",
      "source": [
        "# STEP 8: Function to create ANN model\n",
        "def build_ann(input_dim, hidden_layers=1, neurons=64, activation='relu'):\n",
        "    model = Sequential()\n",
        "    model.add(Dense(neurons, input_dim=input_dim, activation=activation))\n",
        "    for _ in range(hidden_layers - 1):\n",
        "        model.add(Dense(neurons, activation=activation))\n",
        "    model.add(Dense(y_categorical.shape[1], activation='softmax'))\n",
        "    model.compile(optimizer='adam', loss='categorical_crossentropy', metrics=['accuracy'])\n",
        "    return model"
      ],
      "metadata": {
        "id": "kQ3qetWwMG36"
      },
      "execution_count": null,
      "outputs": []
    },
    {
      "cell_type": "code",
      "source": [
        "# STEP 9: Create and train model\n",
        "model = build_ann(input_dim=X_train.shape[1], hidden_layers=2, neurons=64, activation='relu')\n",
        "history = model.fit(X_train, y_train, validation_split=0.2, epochs=50, batch_size=32, verbose=1)\n"
      ],
      "metadata": {
        "colab": {
          "base_uri": "https://localhost:8080/"
        },
        "id": "1QIl117fMG1P",
        "outputId": "51827b79-aff0-44d3-9905-967cc59806bd"
      },
      "execution_count": null,
      "outputs": [
        {
          "output_type": "stream",
          "name": "stdout",
          "text": [
            "Epoch 1/50\n"
          ]
        },
        {
          "output_type": "stream",
          "name": "stderr",
          "text": [
            "/usr/local/lib/python3.11/dist-packages/keras/src/layers/core/dense.py:87: UserWarning: Do not pass an `input_shape`/`input_dim` argument to a layer. When using Sequential models, prefer using an `Input(shape)` object as the first layer in the model instead.\n",
            "  super().__init__(activity_regularizer=activity_regularizer, **kwargs)\n"
          ]
        },
        {
          "output_type": "stream",
          "name": "stdout",
          "text": [
            "\u001b[1m400/400\u001b[0m \u001b[32m━━━━━━━━━━━━━━━━━━━━\u001b[0m\u001b[37m\u001b[0m \u001b[1m3s\u001b[0m 3ms/step - accuracy: 0.3646 - loss: 2.3992 - val_accuracy: 0.7247 - val_loss: 1.0010\n",
            "Epoch 2/50\n",
            "\u001b[1m400/400\u001b[0m \u001b[32m━━━━━━━━━━━━━━━━━━━━\u001b[0m\u001b[37m\u001b[0m \u001b[1m1s\u001b[0m 3ms/step - accuracy: 0.7465 - loss: 0.8774 - val_accuracy: 0.7991 - val_loss: 0.7305\n",
            "Epoch 3/50\n",
            "\u001b[1m400/400\u001b[0m \u001b[32m━━━━━━━━━━━━━━━━━━━━\u001b[0m\u001b[37m\u001b[0m \u001b[1m1s\u001b[0m 3ms/step - accuracy: 0.8129 - loss: 0.6666 - val_accuracy: 0.8278 - val_loss: 0.6004\n",
            "Epoch 4/50\n",
            "\u001b[1m400/400\u001b[0m \u001b[32m━━━━━━━━━━━━━━━━━━━━\u001b[0m\u001b[37m\u001b[0m \u001b[1m1s\u001b[0m 2ms/step - accuracy: 0.8446 - loss: 0.5436 - val_accuracy: 0.8500 - val_loss: 0.5262\n",
            "Epoch 5/50\n",
            "\u001b[1m400/400\u001b[0m \u001b[32m━━━━━━━━━━━━━━━━━━━━\u001b[0m\u001b[37m\u001b[0m \u001b[1m1s\u001b[0m 2ms/step - accuracy: 0.8624 - loss: 0.4656 - val_accuracy: 0.8731 - val_loss: 0.4538\n",
            "Epoch 6/50\n",
            "\u001b[1m400/400\u001b[0m \u001b[32m━━━━━━━━━━━━━━━━━━━━\u001b[0m\u001b[37m\u001b[0m \u001b[1m2s\u001b[0m 4ms/step - accuracy: 0.8783 - loss: 0.4061 - val_accuracy: 0.8828 - val_loss: 0.4117\n",
            "Epoch 7/50\n",
            "\u001b[1m400/400\u001b[0m \u001b[32m━━━━━━━━━━━━━━━━━━━━\u001b[0m\u001b[37m\u001b[0m \u001b[1m2s\u001b[0m 3ms/step - accuracy: 0.8955 - loss: 0.3623 - val_accuracy: 0.8884 - val_loss: 0.3771\n",
            "Epoch 8/50\n",
            "\u001b[1m400/400\u001b[0m \u001b[32m━━━━━━━━━━━━━━━━━━━━\u001b[0m\u001b[37m\u001b[0m \u001b[1m1s\u001b[0m 3ms/step - accuracy: 0.9040 - loss: 0.3307 - val_accuracy: 0.8991 - val_loss: 0.3424\n",
            "Epoch 9/50\n",
            "\u001b[1m400/400\u001b[0m \u001b[32m━━━━━━━━━━━━━━━━━━━━\u001b[0m\u001b[37m\u001b[0m \u001b[1m1s\u001b[0m 3ms/step - accuracy: 0.9091 - loss: 0.2974 - val_accuracy: 0.9028 - val_loss: 0.3174\n",
            "Epoch 10/50\n",
            "\u001b[1m400/400\u001b[0m \u001b[32m━━━━━━━━━━━━━━━━━━━━\u001b[0m\u001b[37m\u001b[0m \u001b[1m1s\u001b[0m 2ms/step - accuracy: 0.9161 - loss: 0.2744 - val_accuracy: 0.9116 - val_loss: 0.2981\n",
            "Epoch 11/50\n",
            "\u001b[1m400/400\u001b[0m \u001b[32m━━━━━━━━━━━━━━━━━━━━\u001b[0m\u001b[37m\u001b[0m \u001b[1m1s\u001b[0m 3ms/step - accuracy: 0.9233 - loss: 0.2558 - val_accuracy: 0.9159 - val_loss: 0.2850\n",
            "Epoch 12/50\n",
            "\u001b[1m400/400\u001b[0m \u001b[32m━━━━━━━━━━━━━━━━━━━━\u001b[0m\u001b[37m\u001b[0m \u001b[1m1s\u001b[0m 2ms/step - accuracy: 0.9322 - loss: 0.2349 - val_accuracy: 0.9253 - val_loss: 0.2638\n",
            "Epoch 13/50\n",
            "\u001b[1m400/400\u001b[0m \u001b[32m━━━━━━━━━━━━━━━━━━━━\u001b[0m\u001b[37m\u001b[0m \u001b[1m1s\u001b[0m 2ms/step - accuracy: 0.9364 - loss: 0.2086 - val_accuracy: 0.9237 - val_loss: 0.2602\n",
            "Epoch 14/50\n",
            "\u001b[1m400/400\u001b[0m \u001b[32m━━━━━━━━━━━━━━━━━━━━\u001b[0m\u001b[37m\u001b[0m \u001b[1m1s\u001b[0m 2ms/step - accuracy: 0.9391 - loss: 0.1942 - val_accuracy: 0.9269 - val_loss: 0.2437\n",
            "Epoch 15/50\n",
            "\u001b[1m400/400\u001b[0m \u001b[32m━━━━━━━━━━━━━━━━━━━━\u001b[0m\u001b[37m\u001b[0m \u001b[1m2s\u001b[0m 4ms/step - accuracy: 0.9444 - loss: 0.1828 - val_accuracy: 0.9272 - val_loss: 0.2425\n",
            "Epoch 16/50\n",
            "\u001b[1m400/400\u001b[0m \u001b[32m━━━━━━━━━━━━━━━━━━━━\u001b[0m\u001b[37m\u001b[0m \u001b[1m2s\u001b[0m 2ms/step - accuracy: 0.9462 - loss: 0.1759 - val_accuracy: 0.9297 - val_loss: 0.2268\n",
            "Epoch 17/50\n",
            "\u001b[1m400/400\u001b[0m \u001b[32m━━━━━━━━━━━━━━━━━━━━\u001b[0m\u001b[37m\u001b[0m \u001b[1m1s\u001b[0m 3ms/step - accuracy: 0.9513 - loss: 0.1630 - val_accuracy: 0.9300 - val_loss: 0.2240\n",
            "Epoch 18/50\n",
            "\u001b[1m400/400\u001b[0m \u001b[32m━━━━━━━━━━━━━━━━━━━━\u001b[0m\u001b[37m\u001b[0m \u001b[1m1s\u001b[0m 2ms/step - accuracy: 0.9535 - loss: 0.1524 - val_accuracy: 0.9344 - val_loss: 0.2184\n",
            "Epoch 19/50\n",
            "\u001b[1m400/400\u001b[0m \u001b[32m━━━━━━━━━━━━━━━━━━━━\u001b[0m\u001b[37m\u001b[0m \u001b[1m1s\u001b[0m 2ms/step - accuracy: 0.9578 - loss: 0.1395 - val_accuracy: 0.9359 - val_loss: 0.2050\n",
            "Epoch 20/50\n",
            "\u001b[1m400/400\u001b[0m \u001b[32m━━━━━━━━━━━━━━━━━━━━\u001b[0m\u001b[37m\u001b[0m \u001b[1m1s\u001b[0m 2ms/step - accuracy: 0.9589 - loss: 0.1368 - val_accuracy: 0.9347 - val_loss: 0.2048\n",
            "Epoch 21/50\n",
            "\u001b[1m400/400\u001b[0m \u001b[32m━━━━━━━━━━━━━━━━━━━━\u001b[0m\u001b[37m\u001b[0m \u001b[1m1s\u001b[0m 2ms/step - accuracy: 0.9628 - loss: 0.1260 - val_accuracy: 0.9372 - val_loss: 0.2009\n",
            "Epoch 22/50\n",
            "\u001b[1m400/400\u001b[0m \u001b[32m━━━━━━━━━━━━━━━━━━━━\u001b[0m\u001b[37m\u001b[0m \u001b[1m1s\u001b[0m 2ms/step - accuracy: 0.9607 - loss: 0.1278 - val_accuracy: 0.9353 - val_loss: 0.2029\n",
            "Epoch 23/50\n",
            "\u001b[1m400/400\u001b[0m \u001b[32m━━━━━━━━━━━━━━━━━━━━\u001b[0m\u001b[37m\u001b[0m \u001b[1m1s\u001b[0m 2ms/step - accuracy: 0.9621 - loss: 0.1208 - val_accuracy: 0.9381 - val_loss: 0.1980\n",
            "Epoch 24/50\n",
            "\u001b[1m400/400\u001b[0m \u001b[32m━━━━━━━━━━━━━━━━━━━━\u001b[0m\u001b[37m\u001b[0m \u001b[1m1s\u001b[0m 3ms/step - accuracy: 0.9662 - loss: 0.1070 - val_accuracy: 0.9369 - val_loss: 0.1931\n",
            "Epoch 25/50\n",
            "\u001b[1m400/400\u001b[0m \u001b[32m━━━━━━━━━━━━━━━━━━━━\u001b[0m\u001b[37m\u001b[0m \u001b[1m2s\u001b[0m 4ms/step - accuracy: 0.9669 - loss: 0.1063 - val_accuracy: 0.9406 - val_loss: 0.1889\n",
            "Epoch 26/50\n",
            "\u001b[1m400/400\u001b[0m \u001b[32m━━━━━━━━━━━━━━━━━━━━\u001b[0m\u001b[37m\u001b[0m \u001b[1m1s\u001b[0m 3ms/step - accuracy: 0.9721 - loss: 0.1008 - val_accuracy: 0.9359 - val_loss: 0.1915\n",
            "Epoch 27/50\n",
            "\u001b[1m400/400\u001b[0m \u001b[32m━━━━━━━━━━━━━━━━━━━━\u001b[0m\u001b[37m\u001b[0m \u001b[1m1s\u001b[0m 2ms/step - accuracy: 0.9670 - loss: 0.1001 - val_accuracy: 0.9428 - val_loss: 0.1877\n",
            "Epoch 28/50\n",
            "\u001b[1m400/400\u001b[0m \u001b[32m━━━━━━━━━━━━━━━━━━━━\u001b[0m\u001b[37m\u001b[0m \u001b[1m1s\u001b[0m 2ms/step - accuracy: 0.9736 - loss: 0.0881 - val_accuracy: 0.9397 - val_loss: 0.1785\n",
            "Epoch 29/50\n",
            "\u001b[1m400/400\u001b[0m \u001b[32m━━━━━━━━━━━━━━━━━━━━\u001b[0m\u001b[37m\u001b[0m \u001b[1m1s\u001b[0m 2ms/step - accuracy: 0.9757 - loss: 0.0835 - val_accuracy: 0.9419 - val_loss: 0.1804\n",
            "Epoch 30/50\n",
            "\u001b[1m400/400\u001b[0m \u001b[32m━━━━━━━━━━━━━━━━━━━━\u001b[0m\u001b[37m\u001b[0m \u001b[1m1s\u001b[0m 2ms/step - accuracy: 0.9712 - loss: 0.0898 - val_accuracy: 0.9422 - val_loss: 0.1814\n",
            "Epoch 31/50\n",
            "\u001b[1m400/400\u001b[0m \u001b[32m━━━━━━━━━━━━━━━━━━━━\u001b[0m\u001b[37m\u001b[0m \u001b[1m1s\u001b[0m 2ms/step - accuracy: 0.9744 - loss: 0.0843 - val_accuracy: 0.9388 - val_loss: 0.1891\n",
            "Epoch 32/50\n",
            "\u001b[1m400/400\u001b[0m \u001b[32m━━━━━━━━━━━━━━━━━━━━\u001b[0m\u001b[37m\u001b[0m \u001b[1m1s\u001b[0m 3ms/step - accuracy: 0.9817 - loss: 0.0685 - val_accuracy: 0.9406 - val_loss: 0.1859\n",
            "Epoch 33/50\n",
            "\u001b[1m400/400\u001b[0m \u001b[32m━━━━━━━━━━━━━━━━━━━━\u001b[0m\u001b[37m\u001b[0m \u001b[1m1s\u001b[0m 2ms/step - accuracy: 0.9781 - loss: 0.0746 - val_accuracy: 0.9413 - val_loss: 0.1766\n",
            "Epoch 34/50\n",
            "\u001b[1m400/400\u001b[0m \u001b[32m━━━━━━━━━━━━━━━━━━━━\u001b[0m\u001b[37m\u001b[0m \u001b[1m1s\u001b[0m 2ms/step - accuracy: 0.9767 - loss: 0.0728 - val_accuracy: 0.9384 - val_loss: 0.1842\n",
            "Epoch 35/50\n",
            "\u001b[1m400/400\u001b[0m \u001b[32m━━━━━━━━━━━━━━━━━━━━\u001b[0m\u001b[37m\u001b[0m \u001b[1m4s\u001b[0m 9ms/step - accuracy: 0.9820 - loss: 0.0631 - val_accuracy: 0.9397 - val_loss: 0.1793\n",
            "Epoch 36/50\n",
            "\u001b[1m400/400\u001b[0m \u001b[32m━━━━━━━━━━━━━━━━━━━━\u001b[0m\u001b[37m\u001b[0m \u001b[1m3s\u001b[0m 3ms/step - accuracy: 0.9816 - loss: 0.0627 - val_accuracy: 0.9394 - val_loss: 0.1815\n",
            "Epoch 37/50\n",
            "\u001b[1m400/400\u001b[0m \u001b[32m━━━━━━━━━━━━━━━━━━━━\u001b[0m\u001b[37m\u001b[0m \u001b[1m1s\u001b[0m 2ms/step - accuracy: 0.9847 - loss: 0.0590 - val_accuracy: 0.9416 - val_loss: 0.1767\n",
            "Epoch 38/50\n",
            "\u001b[1m400/400\u001b[0m \u001b[32m━━━━━━━━━━━━━━━━━━━━\u001b[0m\u001b[37m\u001b[0m \u001b[1m1s\u001b[0m 2ms/step - accuracy: 0.9829 - loss: 0.0607 - val_accuracy: 0.9416 - val_loss: 0.1738\n",
            "Epoch 39/50\n",
            "\u001b[1m400/400\u001b[0m \u001b[32m━━━━━━━━━━━━━━━━━━━━\u001b[0m\u001b[37m\u001b[0m \u001b[1m1s\u001b[0m 2ms/step - accuracy: 0.9832 - loss: 0.0583 - val_accuracy: 0.9441 - val_loss: 0.1707\n",
            "Epoch 40/50\n",
            "\u001b[1m400/400\u001b[0m \u001b[32m━━━━━━━━━━━━━━━━━━━━\u001b[0m\u001b[37m\u001b[0m \u001b[1m1s\u001b[0m 3ms/step - accuracy: 0.9848 - loss: 0.0513 - val_accuracy: 0.9491 - val_loss: 0.1695\n",
            "Epoch 41/50\n",
            "\u001b[1m400/400\u001b[0m \u001b[32m━━━━━━━━━━━━━━━━━━━━\u001b[0m\u001b[37m\u001b[0m \u001b[1m1s\u001b[0m 2ms/step - accuracy: 0.9846 - loss: 0.0524 - val_accuracy: 0.9484 - val_loss: 0.1714\n",
            "Epoch 42/50\n",
            "\u001b[1m400/400\u001b[0m \u001b[32m━━━━━━━━━━━━━━━━━━━━\u001b[0m\u001b[37m\u001b[0m \u001b[1m1s\u001b[0m 2ms/step - accuracy: 0.9862 - loss: 0.0485 - val_accuracy: 0.9447 - val_loss: 0.1805\n",
            "Epoch 43/50\n",
            "\u001b[1m400/400\u001b[0m \u001b[32m━━━━━━━━━━━━━━━━━━━━\u001b[0m\u001b[37m\u001b[0m \u001b[1m1s\u001b[0m 4ms/step - accuracy: 0.9876 - loss: 0.0469 - val_accuracy: 0.9453 - val_loss: 0.1883\n",
            "Epoch 44/50\n",
            "\u001b[1m400/400\u001b[0m \u001b[32m━━━━━━━━━━━━━━━━━━━━\u001b[0m\u001b[37m\u001b[0m \u001b[1m2s\u001b[0m 3ms/step - accuracy: 0.9833 - loss: 0.0492 - val_accuracy: 0.9434 - val_loss: 0.1846\n",
            "Epoch 45/50\n",
            "\u001b[1m400/400\u001b[0m \u001b[32m━━━━━━━━━━━━━━━━━━━━\u001b[0m\u001b[37m\u001b[0m \u001b[1m1s\u001b[0m 2ms/step - accuracy: 0.9879 - loss: 0.0455 - val_accuracy: 0.9431 - val_loss: 0.1801\n",
            "Epoch 46/50\n",
            "\u001b[1m400/400\u001b[0m \u001b[32m━━━━━━━━━━━━━━━━━━━━\u001b[0m\u001b[37m\u001b[0m \u001b[1m1s\u001b[0m 2ms/step - accuracy: 0.9892 - loss: 0.0430 - val_accuracy: 0.9422 - val_loss: 0.1933\n",
            "Epoch 47/50\n",
            "\u001b[1m400/400\u001b[0m \u001b[32m━━━━━━━━━━━━━━━━━━━━\u001b[0m\u001b[37m\u001b[0m \u001b[1m1s\u001b[0m 3ms/step - accuracy: 0.9907 - loss: 0.0390 - val_accuracy: 0.9431 - val_loss: 0.1803\n",
            "Epoch 48/50\n",
            "\u001b[1m400/400\u001b[0m \u001b[32m━━━━━━━━━━━━━━━━━━━━\u001b[0m\u001b[37m\u001b[0m \u001b[1m1s\u001b[0m 3ms/step - accuracy: 0.9880 - loss: 0.0411 - val_accuracy: 0.9463 - val_loss: 0.1833\n",
            "Epoch 49/50\n",
            "\u001b[1m400/400\u001b[0m \u001b[32m━━━━━━━━━━━━━━━━━━━━\u001b[0m\u001b[37m\u001b[0m \u001b[1m1s\u001b[0m 2ms/step - accuracy: 0.9899 - loss: 0.0366 - val_accuracy: 0.9463 - val_loss: 0.1848\n",
            "Epoch 50/50\n",
            "\u001b[1m400/400\u001b[0m \u001b[32m━━━━━━━━━━━━━━━━━━━━\u001b[0m\u001b[37m\u001b[0m \u001b[1m1s\u001b[0m 2ms/step - accuracy: 0.9912 - loss: 0.0340 - val_accuracy: 0.9478 - val_loss: 0.1785\n"
          ]
        }
      ]
    },
    {
      "cell_type": "code",
      "source": [
        "# STEP 10: Evaluate the model\n",
        "loss, accuracy = model.evaluate(X_test, y_test)\n",
        "print(\"\\nTest Accuracy:\", accuracy)"
      ],
      "metadata": {
        "colab": {
          "base_uri": "https://localhost:8080/"
        },
        "id": "c1dV4YN6MGyQ",
        "outputId": "116deb43-02d3-41c0-840d-94f835e4f19a"
      },
      "execution_count": null,
      "outputs": [
        {
          "output_type": "stream",
          "name": "stdout",
          "text": [
            "\u001b[1m125/125\u001b[0m \u001b[32m━━━━━━━━━━━━━━━━━━━━\u001b[0m\u001b[37m\u001b[0m \u001b[1m0s\u001b[0m 2ms/step - accuracy: 0.9562 - loss: 0.1661\n",
            "\n",
            "Test Accuracy: 0.9542499780654907\n"
          ]
        }
      ]
    },
    {
      "cell_type": "code",
      "source": [
        "# STEP 11: Predictions and evaluation\n",
        "y_pred = model.predict(X_test)\n",
        "y_pred_classes = np.argmax(y_pred, axis=1)\n",
        "y_true_classes = np.argmax(y_test, axis=1)\n",
        "\n",
        "print(\"\\nClassification Report:\\n\", classification_report(y_true_classes, y_pred_classes, target_names=le.classes_))\n",
        "print(\"\\nConfusion Matrix:\\n\", confusion_matrix(y_true_classes, y_pred_classes))\n"
      ],
      "metadata": {
        "colab": {
          "base_uri": "https://localhost:8080/"
        },
        "id": "JFxNo3uTMGvY",
        "outputId": "2d1ecd0e-9d6f-44bc-b7c3-eeabd3136e41"
      },
      "execution_count": null,
      "outputs": [
        {
          "output_type": "stream",
          "name": "stdout",
          "text": [
            "\u001b[1m125/125\u001b[0m \u001b[32m━━━━━━━━━━━━━━━━━━━━\u001b[0m\u001b[37m\u001b[0m \u001b[1m0s\u001b[0m 1ms/step\n",
            "\n",
            "Classification Report:\n",
            "               precision    recall  f1-score   support\n",
            "\n",
            "           A       0.95      0.99      0.97       149\n",
            "           B       0.91      0.95      0.93       153\n",
            "           C       0.98      0.93      0.96       137\n",
            "           D       0.96      0.93      0.94       156\n",
            "           E       0.91      0.96      0.93       141\n",
            "           F       0.95      0.96      0.96       140\n",
            "           G       0.97      0.95      0.96       160\n",
            "           H       0.88      0.92      0.90       144\n",
            "           I       0.98      0.91      0.94       146\n",
            "           J       0.94      0.94      0.94       149\n",
            "           K       0.92      0.90      0.91       130\n",
            "           L       0.97      0.94      0.96       155\n",
            "           M       0.99      0.96      0.97       168\n",
            "           N       0.96      0.91      0.94       151\n",
            "           O       0.94      0.97      0.96       145\n",
            "           P       0.97      0.97      0.97       173\n",
            "           Q       0.99      0.98      0.98       166\n",
            "           R       0.86      0.92      0.89       160\n",
            "           S       0.97      0.98      0.98       171\n",
            "           T       0.97      0.97      0.97       163\n",
            "           U       0.96      0.97      0.96       183\n",
            "           V       0.99      0.96      0.97       158\n",
            "           W       0.97      1.00      0.98       148\n",
            "           X       0.96      0.99      0.97       154\n",
            "           Y       0.99      0.97      0.98       168\n",
            "           Z       0.98      0.95      0.97       132\n",
            "\n",
            "    accuracy                           0.95      4000\n",
            "   macro avg       0.95      0.95      0.95      4000\n",
            "weighted avg       0.96      0.95      0.95      4000\n",
            "\n",
            "\n",
            "Confusion Matrix:\n",
            " [[148   0   0   0   0   0   0   0   0   0   0   0   0   0   0   0   0   1\n",
            "    0   0   0   0   0   0   0   0]\n",
            " [  1 145   0   1   1   1   0   0   0   0   0   0   0   0   0   0   0   3\n",
            "    0   1   0   0   0   0   0   0]\n",
            " [  0   0 128   0   2   0   2   0   0   0   0   0   0   0   2   0   0   1\n",
            "    0   0   2   0   0   0   0   0]\n",
            " [  0   2   0 145   0   0   0   6   0   0   0   0   0   2   1   0   0   0\n",
            "    0   0   0   0   0   0   0   0]\n",
            " [  0   2   0   0 136   0   2   0   0   0   1   0   0   0   0   0   0   0\n",
            "    0   0   0   0   0   0   0   0]\n",
            " [  0   0   0   0   1 135   0   0   1   0   0   0   0   0   0   2   0   0\n",
            "    0   1   0   0   0   0   0   0]\n",
            " [  1   1   1   0   1   0 152   1   0   0   0   0   0   0   0   0   1   0\n",
            "    0   0   0   2   0   0   0   0]\n",
            " [  0   2   0   0   0   0   0 133   0   0   2   0   0   0   2   0   0   4\n",
            "    0   0   1   0   0   0   0   0]\n",
            " [  0   1   0   1   0   0   0   0 133   8   0   0   0   0   0   1   0   0\n",
            "    1   0   0   0   0   1   0   0]\n",
            " [  0   0   0   1   0   2   0   0   2 140   0   1   0   0   1   0   0   1\n",
            "    0   0   0   0   0   1   0   0]\n",
            " [  0   0   0   0   1   0   0   3   0   0 117   0   0   0   0   0   0   5\n",
            "    0   0   1   0   0   3   0   0]\n",
            " [  0   0   0   0   2   0   1   0   0   0   1 146   0   0   0   0   0   1\n",
            "    2   0   0   0   0   0   0   2]\n",
            " [  2   0   0   0   0   0   0   0   0   0   0   0 161   3   0   0   0   0\n",
            "    0   0   1   0   1   0   0   0]\n",
            " [  1   0   0   0   0   0   0   2   0   0   1   0   1 137   3   0   0   4\n",
            "    0   0   1   0   1   0   0   0]\n",
            " [  0   0   0   1   0   0   0   0   0   0   0   0   0   0 141   0   1   0\n",
            "    0   0   1   0   1   0   0   0]\n",
            " [  0   0   0   1   1   3   0   0   0   0   0   1   0   0   0 167   0   0\n",
            "    0   0   0   0   0   0   0   0]\n",
            " [  0   0   0   1   1   0   0   0   0   0   0   0   0   0   0   0 162   1\n",
            "    0   0   0   0   0   0   1   0]\n",
            " [  0   3   1   0   1   0   0   6   0   0   2   0   0   0   0   0   0 147\n",
            "    0   0   0   0   0   0   0   0]\n",
            " [  0   0   0   0   1   0   0   0   0   0   0   0   0   0   0   1   0   0\n",
            "  168   0   0   0   0   0   1   0]\n",
            " [  0   0   0   0   0   0   0   0   0   0   1   0   0   0   0   0   0   0\n",
            "    1 158   1   0   0   2   0   0]\n",
            " [  1   0   0   0   0   0   0   0   0   0   2   0   1   0   0   0   0   0\n",
            "    0   0 178   0   1   0   0   0]\n",
            " [  0   3   0   0   0   1   0   0   0   0   0   0   0   0   0   1   0   0\n",
            "    0   0   0 152   1   0   0   0]\n",
            " [  0   0   0   0   0   0   0   0   0   0   0   0   0   0   0   0   0   0\n",
            "    0   0   0   0 148   0   0   0]\n",
            " [  0   0   0   0   0   0   0   0   0   0   0   1   0   0   0   0   0   0\n",
            "    0   1   0   0   0 152   0   0]\n",
            " [  2   0   0   0   0   0   0   0   0   0   0   0   0   0   0   1   0   0\n",
            "    0   2   0   0   0   0 163   0]\n",
            " [  0   0   0   0   2   0   0   0   0   1   0   1   0   0   0   0   0   2\n",
            "    1   0   0   0   0   0   0 125]]\n"
          ]
        }
      ]
    },
    {
      "cell_type": "code",
      "source": [],
      "metadata": {
        "id": "zbU_ZXYtMGso"
      },
      "execution_count": null,
      "outputs": []
    },
    {
      "cell_type": "code",
      "source": [],
      "metadata": {
        "id": "W4bVZuiDMGp1"
      },
      "execution_count": null,
      "outputs": []
    },
    {
      "cell_type": "code",
      "source": [],
      "metadata": {
        "id": "p4-tmZ7iMGnY"
      },
      "execution_count": null,
      "outputs": []
    },
    {
      "cell_type": "code",
      "source": [],
      "metadata": {
        "id": "k0uVNlKJMGkr"
      },
      "execution_count": null,
      "outputs": []
    },
    {
      "cell_type": "code",
      "source": [],
      "metadata": {
        "id": "6DtfJZctMGiA"
      },
      "execution_count": null,
      "outputs": []
    },
    {
      "cell_type": "code",
      "source": [],
      "metadata": {
        "id": "7Nn2dszEMGfO"
      },
      "execution_count": null,
      "outputs": []
    },
    {
      "cell_type": "code",
      "source": [],
      "metadata": {
        "id": "m8vvTAJeMGcr"
      },
      "execution_count": null,
      "outputs": []
    }
  ]
}
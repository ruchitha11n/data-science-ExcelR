{
  "nbformat": 4,
  "nbformat_minor": 0,
  "metadata": {
    "colab": {
      "provenance": [],
      "authorship_tag": "ABX9TyO4EnF2T0ODszKbWzbknS68",
      "include_colab_link": true
    },
    "kernelspec": {
      "name": "python3",
      "display_name": "Python 3"
    },
    "language_info": {
      "name": "python"
    }
  },
  "cells": [
    {
      "cell_type": "markdown",
      "metadata": {
        "id": "view-in-github",
        "colab_type": "text"
      },
      "source": [
        "<a href=\"https://colab.research.google.com/github/ruchitha11n/data-science-ExcelR/blob/main/Hypothesis_Testing.ipynb\" target=\"_parent\"><img src=\"https://colab.research.google.com/assets/colab-badge.svg\" alt=\"Open In Colab\"/></a>"
      ]
    },
    {
      "cell_type": "markdown",
      "source": [
        "NAME: **NADIPELLI RUCHITHA**\n",
        "\n",
        "COURSE: **DATA SCIENCE (3PM TO 5PM)**\n",
        "\n",
        "INCHARGE: **PANAM SRAVANI**"
      ],
      "metadata": {
        "id": "8dmJzlWRnIVr"
      }
    },
    {
      "cell_type": "markdown",
      "source": [
        "**4(a).CHI-SQUARE TEST**\n",
        "\n",
        "\n",
        "Association between Device Type and Customer Satisfaction"
      ],
      "metadata": {
        "id": "wThSIGbyGbfo"
      }
    },
    {
      "cell_type": "code",
      "execution_count": null,
      "metadata": {
        "id": "NcJOUjiqGU1R"
      },
      "outputs": [],
      "source": [
        "import numpy as np\n",
        "import scipy.stats as stats"
      ]
    },
    {
      "cell_type": "code",
      "source": [
        "# Contingency Table (Observed Frequencies)\n",
        "observed = np.array([\n",
        "    [50, 70],  # Very Satisfied\n",
        "    [80, 100], # Satisfied\n",
        "    [60, 90],  # Neutral\n",
        "    [30, 50],  # Unsatisfied\n",
        "    [20, 50]   # Very Unsatisfied\n",
        "])"
      ],
      "metadata": {
        "id": "xh48Lf8oGe6n"
      },
      "execution_count": null,
      "outputs": []
    },
    {
      "cell_type": "code",
      "source": [
        "# Compute Chi-Square Statistic\n",
        "chi2_stat, p_value, dof, expected = stats.chi2_contingency(observed)"
      ],
      "metadata": {
        "id": "ILfbV9DwGe3L"
      },
      "execution_count": null,
      "outputs": []
    },
    {
      "cell_type": "code",
      "source": [
        "# Determine Critical Value for alpha = 0.05 and degrees of freedom (dof)\n",
        "alpha = 0.05\n",
        "critical_value = stats.chi2.ppf(1 - alpha, dof)"
      ],
      "metadata": {
        "id": "L7CX6HOiGe0b"
      },
      "execution_count": null,
      "outputs": []
    },
    {
      "cell_type": "code",
      "source": [
        "# Print results\n",
        "print(f\"Chi-Square Statistic: {chi2_stat:.4f}\")\n",
        "print(f\"Degrees of Freedom: {dof}\")\n",
        "print(f\"Critical Value: {critical_value:.4f}\")\n",
        "print(f\"P-Value: {p_value:.4f}\")"
      ],
      "metadata": {
        "colab": {
          "base_uri": "https://localhost:8080/"
        },
        "id": "ImBmq9daGex8",
        "outputId": "92eac5fa-92df-49d8-becb-39592aeb759c"
      },
      "execution_count": null,
      "outputs": [
        {
          "output_type": "stream",
          "name": "stdout",
          "text": [
            "Chi-Square Statistic: 5.6382\n",
            "Degrees of Freedom: 4\n",
            "Critical Value: 9.4877\n",
            "P-Value: 0.2278\n"
          ]
        }
      ]
    },
    {
      "cell_type": "code",
      "source": [
        "# Decision Making\n",
        "if chi2_stat > critical_value:\n",
        "    print(\"Reject the null hypothesis: There is a significant association between device type and customer satisfaction.\")\n",
        "else:\n",
        "    print(\"Fail to reject the null hypothesis: No significant association between device type and customer satisfaction.\")\n"
      ],
      "metadata": {
        "colab": {
          "base_uri": "https://localhost:8080/"
        },
        "id": "GRsCe2pfGevO",
        "outputId": "8b819fd3-19fc-42d0-b834-4dd0888a8050"
      },
      "execution_count": null,
      "outputs": [
        {
          "output_type": "stream",
          "name": "stdout",
          "text": [
            "Fail to reject the null hypothesis: No significant association between device type and customer satisfaction.\n"
          ]
        }
      ]
    },
    {
      "cell_type": "markdown",
      "source": [
        "**4(b).HYPOTHESIS TESTING**\n",
        "\n",
        "\n",
        "To investigate the restaurant owners' claim about the increase in weekly operating costs using hypothesis testing\n"
      ],
      "metadata": {
        "id": "NICzZ3EaGwsq"
      }
    },
    {
      "cell_type": "code",
      "source": [
        "import scipy.stats as stats\n",
        "import numpy as np"
      ],
      "metadata": {
        "id": "izZJ6rwBGes3"
      },
      "execution_count": null,
      "outputs": []
    },
    {
      "cell_type": "code",
      "source": [
        "# Step 1: Define Hypotheses\n",
        "# H0: The weekly operating cost follows the theoretical model (W = 1000 + 5X)\n",
        "# H1: The weekly operating cost is higher than the theoretical model\n",
        "\n",
        "# Given Data\n",
        "sample_mean = 3050  # Sample mean weekly cost\n",
        "theoretical_mean = 1000 + (5 * 600)  # Model-based weekly cost\n",
        "sigma = 5 * 25  # Standard deviation\n",
        "n = 25  # Sample size\n",
        "alpha = 0.05  # Significance level"
      ],
      "metadata": {
        "id": "iooh7qyJGeqJ"
      },
      "execution_count": null,
      "outputs": []
    },
    {
      "cell_type": "code",
      "source": [
        "# Step 2: Compute Test Statistic (Z-score)\n",
        "z_stat = (sample_mean - theoretical_mean) / (sigma / np.sqrt(n))"
      ],
      "metadata": {
        "id": "1TzrhXlSGenO"
      },
      "execution_count": null,
      "outputs": []
    },
    {
      "cell_type": "code",
      "source": [
        "# Step 3: Determine Critical Value for alpha = 0.05 (one-tailed test)\n",
        "critical_value = stats.norm.ppf(1 - alpha)\n"
      ],
      "metadata": {
        "id": "1iZtQnfuGeki"
      },
      "execution_count": null,
      "outputs": []
    },
    {
      "cell_type": "code",
      "source": [
        "# Step 4: Decision Making\n",
        "print(f\"Test Statistic (Z-score): {z_stat:.4f}\")\n",
        "print(f\"Critical Value: {critical_value:.4f}\")"
      ],
      "metadata": {
        "colab": {
          "base_uri": "https://localhost:8080/"
        },
        "id": "qQjs0yyvGeh8",
        "outputId": "e332503c-1782-461e-c028-c044c9515ff1"
      },
      "execution_count": null,
      "outputs": [
        {
          "output_type": "stream",
          "name": "stdout",
          "text": [
            "Test Statistic (Z-score): -38.0000\n",
            "Critical Value: 1.6449\n"
          ]
        }
      ]
    },
    {
      "cell_type": "code",
      "source": [
        "if z_stat > critical_value:\n",
        "    print(\"Reject the null hypothesis: The weekly operating costs are significantly higher than the model suggests.\")\n",
        "else:\n",
        "    print(\"Fail to reject the null hypothesis: No strong evidence that operating costs are higher.\")\n"
      ],
      "metadata": {
        "colab": {
          "base_uri": "https://localhost:8080/"
        },
        "id": "XpiuMk8EGefe",
        "outputId": "2233d273-8dc9-4b26-81ab-70d5f5549e4f"
      },
      "execution_count": null,
      "outputs": [
        {
          "output_type": "stream",
          "name": "stdout",
          "text": [
            "Fail to reject the null hypothesis: No strong evidence that operating costs are higher.\n"
          ]
        }
      ]
    },
    {
      "cell_type": "code",
      "source": [],
      "metadata": {
        "id": "PQVHe2jQGecu"
      },
      "execution_count": null,
      "outputs": []
    },
    {
      "cell_type": "code",
      "source": [],
      "metadata": {
        "id": "EAN4VypFGeaI"
      },
      "execution_count": null,
      "outputs": []
    },
    {
      "cell_type": "code",
      "source": [],
      "metadata": {
        "id": "raq2H9xEGeXf"
      },
      "execution_count": null,
      "outputs": []
    },
    {
      "cell_type": "code",
      "source": [],
      "metadata": {
        "id": "juqKOp4hGeUr"
      },
      "execution_count": null,
      "outputs": []
    },
    {
      "cell_type": "code",
      "source": [],
      "metadata": {
        "id": "Hln-OMHAGeRl"
      },
      "execution_count": null,
      "outputs": []
    },
    {
      "cell_type": "code",
      "source": [],
      "metadata": {
        "id": "PRPrp4oGGeOg"
      },
      "execution_count": null,
      "outputs": []
    },
    {
      "cell_type": "code",
      "source": [],
      "metadata": {
        "id": "H2-WxTrDGeL7"
      },
      "execution_count": null,
      "outputs": []
    },
    {
      "cell_type": "code",
      "source": [],
      "metadata": {
        "id": "UNTOsALIGeJX"
      },
      "execution_count": null,
      "outputs": []
    },
    {
      "cell_type": "code",
      "source": [],
      "metadata": {
        "id": "6lQP0wBoGeG2"
      },
      "execution_count": null,
      "outputs": []
    },
    {
      "cell_type": "code",
      "source": [],
      "metadata": {
        "id": "OXgshz2UGeEQ"
      },
      "execution_count": null,
      "outputs": []
    },
    {
      "cell_type": "code",
      "source": [],
      "metadata": {
        "id": "6-Abbcd2GeBy"
      },
      "execution_count": null,
      "outputs": []
    },
    {
      "cell_type": "code",
      "source": [],
      "metadata": {
        "id": "i_ekp3TuGd8r"
      },
      "execution_count": null,
      "outputs": []
    }
  ]
}